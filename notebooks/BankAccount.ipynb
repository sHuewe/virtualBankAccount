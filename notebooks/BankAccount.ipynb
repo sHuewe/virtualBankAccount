{
 "cells": [
  {
   "cell_type": "markdown",
   "id": "innovative-ozone",
   "metadata": {},
   "source": [
    "# Imports"
   ]
  },
  {
   "cell_type": "code",
   "execution_count": null,
   "id": "received-victorian",
   "metadata": {},
   "outputs": [],
   "source": [
    "from virtualBankAccount.repository.filerepo import FileRepository\n",
    "from virtualBankAccount.repository.mongorepo import MongoRepository\n",
    "from virtualBankAccount.broker import Broker"
   ]
  },
  {
   "cell_type": "markdown",
   "id": "crude-pathology",
   "metadata": {},
   "source": [
    "## Init repo (file system or MongoDb)"
   ]
  },
  {
   "cell_type": "code",
   "execution_count": null,
   "id": "robust-moses",
   "metadata": {},
   "outputs": [],
   "source": [
    "#repo=MongoRepository(dbName=\"virtualBankAccount\",username=\"root\",password=\"example\")\n",
    "repo=FileRepository(\"accounts.json\",\"transactions.json\")"
   ]
  },
  {
   "cell_type": "markdown",
   "id": "spatial-rally",
   "metadata": {},
   "source": [
    "## Init broker for user\n",
    "Add some accounts (One real (\"MASTER\"), three virual (\"Sub1\",\"Sub2\",\"Sub3)), and transfer money to virtual accounts"
   ]
  },
  {
   "cell_type": "code",
   "execution_count": null,
   "id": "vocational-rebound",
   "metadata": {},
   "outputs": [],
   "source": [
    "broker= Broker(\"user1\",repo=repo)\n",
    "\n",
    "try:\n",
    "    master=broker.createAccount(\"MAIN\")\n",
    "    broker.createAccount(\"Sub1\",parentId=master._id)\n",
    "    broker.createAccount(\"Sub2\",parentId=master._id)\n",
    "    broker.createAccount(\"Sub3\",parentId=master._id)\n",
    "except ValueError:\n",
    "    pass\n",
    "    \n",
    "broker.setDefaultAccount(\"Sub1\")\n",
    "broker.setMonthlyPaiment(\"Sub2\",200,1,monthOffset=0)\n",
    "broker.setMonthlyPaiment(\"Sub3\",100,1,monthOffset=0)\n",
    "\n",
    "\n",
    "broker.addValue(\"Sub2\",2000)\n",
    "broker.addValue(\"Sub3\",300)"
   ]
  },
  {
   "cell_type": "markdown",
   "id": "boxed-stand",
   "metadata": {},
   "source": [
    "## Add money to main account and transfer to childs according to monthly paiments"
   ]
  },
  {
   "cell_type": "code",
   "execution_count": null,
   "id": "advised-korean",
   "metadata": {},
   "outputs": [],
   "source": [
    "broker.addValue(\"MAIN\",500)\n",
    "broker.transfer(\"MAIN\")"
   ]
  },
  {
   "cell_type": "markdown",
   "id": "republican-barrel",
   "metadata": {},
   "source": [
    "## Invert last transaction"
   ]
  },
  {
   "cell_type": "code",
   "execution_count": null,
   "id": "private-smoke",
   "metadata": {},
   "outputs": [],
   "source": [
    "transaction = broker.getTransactions(n=3)[0]\n",
    "broker.invertTransaction(transaction)"
   ]
  },
  {
   "cell_type": "markdown",
   "id": "russian-blast",
   "metadata": {},
   "source": [
    "## Show last transactions"
   ]
  },
  {
   "cell_type": "code",
   "execution_count": null,
   "id": "possible-postage",
   "metadata": {},
   "outputs": [],
   "source": [
    "broker.getTransactionDf()"
   ]
  },
  {
   "cell_type": "markdown",
   "id": "intermediate-package",
   "metadata": {},
   "source": [
    "## Show accounts"
   ]
  },
  {
   "cell_type": "code",
   "execution_count": null,
   "id": "together-shoulder",
   "metadata": {},
   "outputs": [],
   "source": [
    "broker.getAccountsDf()"
   ]
  }
 ],
 "metadata": {
  "kernelspec": {
   "display_name": "Python 3",
   "language": "python",
   "name": "python3"
  },
  "language_info": {
   "codemirror_mode": {
    "name": "ipython",
    "version": 3
   },
   "file_extension": ".py",
   "mimetype": "text/x-python",
   "name": "python",
   "nbconvert_exporter": "python",
   "pygments_lexer": "ipython3",
   "version": "3.6.5"
  }
 },
 "nbformat": 4,
 "nbformat_minor": 5
}
