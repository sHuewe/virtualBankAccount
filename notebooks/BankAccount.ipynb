{
 "cells": [
  {
   "cell_type": "code",
   "execution_count": 1,
   "id": "received-victorian",
   "metadata": {},
   "outputs": [],
   "source": [
    "from virtualBankAccount.repository.filerepo import FileRepository\n",
    "from virtualBankAccount.repository.mongorepo import MongoRepository\n",
    "from virtualBankAccount.broker import Broker"
   ]
  },
  {
   "cell_type": "code",
   "execution_count": 2,
   "id": "vocational-rebound",
   "metadata": {},
   "outputs": [
    {
     "name": "stdout",
     "output_type": "stream",
     "text": [
      "\n"
     ]
    }
   ],
   "source": [
    "repo=MongoRepository(dbName=\"virtualBankAccount\",username=\"root\",password=\"example\")\n",
    "repo=FileRepository(\"accounts.json\",\"transactions.json\")\n",
    "\n",
    "broker= Broker(\"stephan\",repo=repo)\n",
    "\n",
    "try:\n",
    "    master=broker.createAccount(\"DKB_TG\")\n",
    "    broker.createAccount(\"Auto_Abschreibung\",parentId=master._id)\n",
    "    broker.createAccount(\"Auto_Reparatur\",parentId=master._id)\n",
    "    broker.createAccount(\"Kurzfristig\",parentId=master._id)\n",
    "except ValueError:\n",
    "    print(\"\")\n",
    "    \n",
    "#broker.saveAccount(broker.getAccountByName(\"Auto_Abschreibung\").withPeriodicValue(100,1))\n",
    "#broker.saveAccount(broker.getAccountByName(\"Auto_Reparatur\").withPeriodicValue(200,1))\n",
    "#broker.saveAccount(broker.getAccountByName(\"Kurzfristig\").withPeriodicValue(-1,1))\n",
    "\n",
    "#broker.addValue(\"Auto_Abschreibung\",2000)\n",
    "#broker.addValue(\"Auto_Reparatur\",300)"
   ]
  },
  {
   "cell_type": "code",
   "execution_count": 10,
   "id": "advised-korean",
   "metadata": {},
   "outputs": [],
   "source": [
    "#broker= Broker()\n",
    "broker.transfer(\"DKB_TG\")\n",
    "#dir(broker.repo.getAccountByName(\"DKB_TG\")"
   ]
  },
  {
   "cell_type": "code",
   "execution_count": 5,
   "id": "fleet-binary",
   "metadata": {},
   "outputs": [],
   "source": [
    "broker.addValue(\"Auto_Reparatur\",200)"
   ]
  },
  {
   "cell_type": "code",
   "execution_count": 5,
   "id": "according-payment",
   "metadata": {},
   "outputs": [
    {
     "ename": "AttributeError",
     "evalue": "'Account' object has no attribute 'periodical'",
     "output_type": "error",
     "traceback": [
      "\u001b[1;31m---------------------------------------------------------------------------\u001b[0m",
      "\u001b[1;31mAttributeError\u001b[0m                            Traceback (most recent call last)",
      "\u001b[1;32m<ipython-input-5-ba99b6db3d8b>\u001b[0m in \u001b[0;36m<module>\u001b[1;34m\u001b[0m\n\u001b[0;32m      1\u001b[0m \u001b[1;32mimport\u001b[0m \u001b[0mdatetime\u001b[0m\u001b[1;33m\u001b[0m\u001b[0m\n\u001b[1;32m----> 2\u001b[1;33m \u001b[0mtimest\u001b[0m\u001b[1;33m=\u001b[0m\u001b[0mbroker\u001b[0m\u001b[1;33m.\u001b[0m\u001b[0mgetAccountByName\u001b[0m\u001b[1;33m(\u001b[0m\u001b[1;34m\"Auto_Abschreibung\"\u001b[0m\u001b[1;33m)\u001b[0m\u001b[1;33m.\u001b[0m\u001b[0mperiodical\u001b[0m\u001b[1;33m[\u001b[0m\u001b[1;34m\"nextDate\"\u001b[0m\u001b[1;33m]\u001b[0m\u001b[1;33m\u001b[0m\u001b[0m\n\u001b[0m\u001b[0;32m      3\u001b[0m \u001b[0mdatetime\u001b[0m\u001b[1;33m.\u001b[0m\u001b[0mdatetime\u001b[0m\u001b[1;33m.\u001b[0m\u001b[0mfromtimestamp\u001b[0m\u001b[1;33m(\u001b[0m\u001b[0mtimest\u001b[0m\u001b[1;33m)\u001b[0m\u001b[1;33m\u001b[0m\u001b[0m\n",
      "\u001b[1;31mAttributeError\u001b[0m: 'Account' object has no attribute 'periodical'"
     ]
    }
   ],
   "source": [
    "import datetime\n",
    "timest=broker.getAccountByName(\"Auto_Abschreibung\").periodical[\"nextDate\"]\n",
    "datetime.datetime.fromtimestamp(timest)"
   ]
  },
  {
   "cell_type": "code",
   "execution_count": 8,
   "id": "private-smoke",
   "metadata": {},
   "outputs": [],
   "source": [
    "transaction = broker.getTransactions(n=3)[2]\n",
    "broker.invertTransaction(transaction)\n",
    "#.drop_database(\"virtualBankAccount\")"
   ]
  },
  {
   "cell_type": "code",
   "execution_count": 9,
   "id": "possible-postage",
   "metadata": {},
   "outputs": [
    {
     "data": {
      "text/html": [
       "<div>\n",
       "<style scoped>\n",
       "    .dataframe tbody tr th:only-of-type {\n",
       "        vertical-align: middle;\n",
       "    }\n",
       "\n",
       "    .dataframe tbody tr th {\n",
       "        vertical-align: top;\n",
       "    }\n",
       "\n",
       "    .dataframe thead th {\n",
       "        text-align: right;\n",
       "    }\n",
       "</style>\n",
       "<table border=\"1\" class=\"dataframe\">\n",
       "  <thead>\n",
       "    <tr style=\"text-align: right;\">\n",
       "      <th></th>\n",
       "      <th>date</th>\n",
       "      <th>description</th>\n",
       "      <th>accounts</th>\n",
       "    </tr>\n",
       "  </thead>\n",
       "  <tbody>\n",
       "    <tr>\n",
       "      <th>0</th>\n",
       "      <td>2021-02-08 00:14:44.286883</td>\n",
       "      <td>Invert \"Transfer to Auto_Abschreibung\"</td>\n",
       "      <td>Auto_Abschreibung:-2000,DKB_TG:-2000</td>\n",
       "    </tr>\n",
       "    <tr>\n",
       "      <th>1</th>\n",
       "      <td>2021-02-08 00:14:21.263296</td>\n",
       "      <td>Invert \"Transfer to Auto_Reparatur\"</td>\n",
       "      <td>Auto_Reparatur:-300,DKB_TG:-300</td>\n",
       "    </tr>\n",
       "    <tr>\n",
       "      <th>2</th>\n",
       "      <td>2021-02-08 00:14:06.278912</td>\n",
       "      <td>Transfer to Auto_Reparatur</td>\n",
       "      <td>Auto_Reparatur:300,DKB_TG:300</td>\n",
       "    </tr>\n",
       "    <tr>\n",
       "      <th>3</th>\n",
       "      <td>2021-02-08 00:14:06.275004</td>\n",
       "      <td>Transfer to Auto_Abschreibung</td>\n",
       "      <td>Auto_Abschreibung:2000,DKB_TG:2000</td>\n",
       "    </tr>\n",
       "    <tr>\n",
       "      <th>4</th>\n",
       "      <td>2021-02-08 00:13:54.762361</td>\n",
       "      <td>Invert \"Invert \"Transfer to Auto_Reparatur\"\"</td>\n",
       "      <td>Auto_Reparatur:200,DKB_TG:200</td>\n",
       "    </tr>\n",
       "    <tr>\n",
       "      <th>5</th>\n",
       "      <td>2021-02-08 00:13:52.006108</td>\n",
       "      <td>Invert \"Transfer to Auto_Reparatur\"</td>\n",
       "      <td>Auto_Reparatur:-200,DKB_TG:-200</td>\n",
       "    </tr>\n",
       "    <tr>\n",
       "      <th>6</th>\n",
       "      <td>2021-02-08 00:13:49.383105</td>\n",
       "      <td>Transfer to Auto_Reparatur</td>\n",
       "      <td>Auto_Reparatur:200,DKB_TG:200</td>\n",
       "    </tr>\n",
       "    <tr>\n",
       "      <th>7</th>\n",
       "      <td>2021-02-08 00:13:47.955889</td>\n",
       "      <td>Transfer to Auto_Reparatur</td>\n",
       "      <td>Auto_Reparatur:200,DKB_TG:200</td>\n",
       "    </tr>\n",
       "    <tr>\n",
       "      <th>8</th>\n",
       "      <td>2021-02-08 00:13:31.175198</td>\n",
       "      <td>Transfer to Auto_Reparatur</td>\n",
       "      <td>Auto_Reparatur:300,DKB_TG:300</td>\n",
       "    </tr>\n",
       "    <tr>\n",
       "      <th>9</th>\n",
       "      <td>2021-02-08 00:13:31.172270</td>\n",
       "      <td>Transfer to Auto_Abschreibung</td>\n",
       "      <td>Auto_Abschreibung:2000,DKB_TG:2000</td>\n",
       "    </tr>\n",
       "  </tbody>\n",
       "</table>\n",
       "</div>"
      ],
      "text/plain": [
       "                        date                                   description  \\\n",
       "0 2021-02-08 00:14:44.286883        Invert \"Transfer to Auto_Abschreibung\"   \n",
       "1 2021-02-08 00:14:21.263296           Invert \"Transfer to Auto_Reparatur\"   \n",
       "2 2021-02-08 00:14:06.278912                    Transfer to Auto_Reparatur   \n",
       "3 2021-02-08 00:14:06.275004                 Transfer to Auto_Abschreibung   \n",
       "4 2021-02-08 00:13:54.762361  Invert \"Invert \"Transfer to Auto_Reparatur\"\"   \n",
       "5 2021-02-08 00:13:52.006108           Invert \"Transfer to Auto_Reparatur\"   \n",
       "6 2021-02-08 00:13:49.383105                    Transfer to Auto_Reparatur   \n",
       "7 2021-02-08 00:13:47.955889                    Transfer to Auto_Reparatur   \n",
       "8 2021-02-08 00:13:31.175198                    Transfer to Auto_Reparatur   \n",
       "9 2021-02-08 00:13:31.172270                 Transfer to Auto_Abschreibung   \n",
       "\n",
       "                               accounts  \n",
       "0  Auto_Abschreibung:-2000,DKB_TG:-2000  \n",
       "1       Auto_Reparatur:-300,DKB_TG:-300  \n",
       "2         Auto_Reparatur:300,DKB_TG:300  \n",
       "3    Auto_Abschreibung:2000,DKB_TG:2000  \n",
       "4         Auto_Reparatur:200,DKB_TG:200  \n",
       "5       Auto_Reparatur:-200,DKB_TG:-200  \n",
       "6         Auto_Reparatur:200,DKB_TG:200  \n",
       "7         Auto_Reparatur:200,DKB_TG:200  \n",
       "8         Auto_Reparatur:300,DKB_TG:300  \n",
       "9    Auto_Abschreibung:2000,DKB_TG:2000  "
      ]
     },
     "execution_count": 9,
     "metadata": {},
     "output_type": "execute_result"
    }
   ],
   "source": [
    "broker.getTransactionDf()"
   ]
  },
  {
   "cell_type": "code",
   "execution_count": 3,
   "id": "together-shoulder",
   "metadata": {},
   "outputs": [
    {
     "data": {
      "text/html": [
       "<div>\n",
       "<style scoped>\n",
       "    .dataframe tbody tr th:only-of-type {\n",
       "        vertical-align: middle;\n",
       "    }\n",
       "\n",
       "    .dataframe tbody tr th {\n",
       "        vertical-align: top;\n",
       "    }\n",
       "\n",
       "    .dataframe thead th {\n",
       "        text-align: right;\n",
       "    }\n",
       "</style>\n",
       "<table border=\"1\" class=\"dataframe\">\n",
       "  <thead>\n",
       "    <tr style=\"text-align: right;\">\n",
       "      <th></th>\n",
       "      <th>name</th>\n",
       "      <th>lastModified</th>\n",
       "      <th>value</th>\n",
       "    </tr>\n",
       "  </thead>\n",
       "  <tbody>\n",
       "    <tr>\n",
       "      <th>0</th>\n",
       "      <td>DKB_TG</td>\n",
       "      <td>1.612740e+09</td>\n",
       "      <td>12300</td>\n",
       "    </tr>\n",
       "    <tr>\n",
       "      <th>1</th>\n",
       "      <td>Auto_Abschreibung</td>\n",
       "      <td>1.612740e+09</td>\n",
       "      <td>10000</td>\n",
       "    </tr>\n",
       "    <tr>\n",
       "      <th>2</th>\n",
       "      <td>Auto_Reparatur</td>\n",
       "      <td>1.612740e+09</td>\n",
       "      <td>2100</td>\n",
       "    </tr>\n",
       "    <tr>\n",
       "      <th>3</th>\n",
       "      <td>Kurzfristig</td>\n",
       "      <td>1.612737e+09</td>\n",
       "      <td>200</td>\n",
       "    </tr>\n",
       "  </tbody>\n",
       "</table>\n",
       "</div>"
      ],
      "text/plain": [
       "                name  lastModified  value\n",
       "0             DKB_TG  1.612740e+09  12300\n",
       "1  Auto_Abschreibung  1.612740e+09  10000\n",
       "2     Auto_Reparatur  1.612740e+09   2100\n",
       "3        Kurzfristig  1.612737e+09    200"
      ]
     },
     "execution_count": 3,
     "metadata": {},
     "output_type": "execute_result"
    }
   ],
   "source": [
    "broker.getAccountsDf()"
   ]
  },
  {
   "cell_type": "code",
   "execution_count": 12,
   "id": "guided-favorite",
   "metadata": {},
   "outputs": [],
   "source": [
    "broker._repo.client.drop_database(\"virtualBankAccount\")"
   ]
  },
  {
   "cell_type": "code",
   "execution_count": 3,
   "id": "simplified-nickel",
   "metadata": {},
   "outputs": [],
   "source": [
    "test=Account(name=\"TEST\",value=101)"
   ]
  },
  {
   "cell_type": "code",
   "execution_count": 6,
   "id": "intended-chester",
   "metadata": {},
   "outputs": [],
   "source": [
    "vars(test)[\"realAccount\"]=1111"
   ]
  },
  {
   "cell_type": "code",
   "execution_count": 7,
   "id": "occupational-lottery",
   "metadata": {},
   "outputs": [
    {
     "data": {
      "text/plain": [
       "<virtualBankAccount.model.account.Account at 0x1f3ca964630>"
      ]
     },
     "execution_count": 7,
     "metadata": {},
     "output_type": "execute_result"
    }
   ],
   "source": [
    "test"
   ]
  },
  {
   "cell_type": "code",
   "execution_count": 8,
   "id": "disturbed-qatar",
   "metadata": {},
   "outputs": [
    {
     "data": {
      "text/plain": [
       "1111"
      ]
     },
     "execution_count": 8,
     "metadata": {},
     "output_type": "execute_result"
    }
   ],
   "source": [
    "test.realAccount"
   ]
  },
  {
   "cell_type": "code",
   "execution_count": 2,
   "id": "blocked-adult",
   "metadata": {},
   "outputs": [
    {
     "data": {
      "text/plain": [
       "[<virtualBankAccount.model.account.Account at 0x1eab67c6ba8>,\n",
       " <virtualBankAccount.model.account.Account at 0x1eab67c6e10>]"
      ]
     },
     "execution_count": 2,
     "metadata": {},
     "output_type": "execute_result"
    }
   ],
   "source": [
    "repo=FileRepository()\n",
    "repo.getAccounts()"
   ]
  },
  {
   "cell_type": "code",
   "execution_count": 10,
   "id": "unknown-fleece",
   "metadata": {},
   "outputs": [
    {
     "data": {
      "text/plain": [
       "88"
      ]
     },
     "execution_count": 10,
     "metadata": {},
     "output_type": "execute_result"
    }
   ],
   "source": [
    "repo.accounts[2].value"
   ]
  },
  {
   "cell_type": "code",
   "execution_count": 6,
   "id": "treated-onion",
   "metadata": {},
   "outputs": [],
   "source": [
    "repo.saveAccount(account=Account(name=\"TE22ST2\",value=88))"
   ]
  },
  {
   "cell_type": "code",
   "execution_count": 7,
   "id": "suitable-characterization",
   "metadata": {},
   "outputs": [
    {
     "data": {
      "text/plain": [
       "datetime.datetime(2012, 3, 16, 1, 0)"
      ]
     },
     "execution_count": 7,
     "metadata": {},
     "output_type": "execute_result"
    }
   ],
   "source": [
    "import datetime\n",
    "your_timestamp = 1331856000\n",
    "date = datetime.datetime.fromtimestamp(your_timestamp)\n",
    "date"
   ]
  },
  {
   "cell_type": "code",
   "execution_count": 47,
   "id": "coastal-scott",
   "metadata": {},
   "outputs": [],
   "source": [
    "import datetime\n",
    "from dateutil.relativedelta import relativedelta\n",
    "today=datetime.date.today()\n",
    "today=today.replace(day=1)\n",
    "dt = datetime.datetime.combine(today, datetime.datetime.min.time())\n",
    "dt=dt + relativedelta(months=1)\n",
    "#dt.timestamp()"
   ]
  },
  {
   "cell_type": "code",
   "execution_count": 46,
   "id": "welsh-chorus",
   "metadata": {},
   "outputs": [
    {
     "data": {
      "text/plain": [
       "datetime.datetime(2021, 4, 1, 0, 0)"
      ]
     },
     "execution_count": 46,
     "metadata": {},
     "output_type": "execute_result"
    }
   ],
   "source": [
    "dt"
   ]
  },
  {
   "cell_type": "code",
   "execution_count": 6,
   "id": "treated-visit",
   "metadata": {},
   "outputs": [
    {
     "name": "stdout",
     "output_type": "stream",
     "text": [
      "Update existing account\n"
     ]
    }
   ],
   "source": [
    "existingAcc=repo.getAccountById(\"c3ea43a521144f51b9e80f72b6183945\")\n",
    "existingAcc.value=1\n",
    "repo.saveAccount(account=existingAcc)"
   ]
  },
  {
   "cell_type": "code",
   "execution_count": 5,
   "id": "pursuant-planet",
   "metadata": {},
   "outputs": [
    {
     "name": "stdout",
     "output_type": "stream",
     "text": [
      "Save new account\n"
     ]
    }
   ],
   "source": [
    "broker= Broker()\n",
    "ta=broker.createAccount(\"Mein Tes22snt\",parentId=ta._id)"
   ]
  },
  {
   "cell_type": "code",
   "execution_count": 6,
   "id": "inclusive-occurrence",
   "metadata": {},
   "outputs": [
    {
     "name": "stdout",
     "output_type": "stream",
     "text": [
      "Update existing account\n"
     ]
    }
   ],
   "source": [
    "ta.name=\"123321\"\n",
    "broker.repo.saveAccount(ta)"
   ]
  },
  {
   "cell_type": "code",
   "execution_count": null,
   "id": "chubby-federal",
   "metadata": {},
   "outputs": [],
   "source": []
  }
 ],
 "metadata": {
  "kernelspec": {
   "display_name": "Python 3",
   "language": "python",
   "name": "python3"
  },
  "language_info": {
   "codemirror_mode": {
    "name": "ipython",
    "version": 3
   },
   "file_extension": ".py",
   "mimetype": "text/x-python",
   "name": "python",
   "nbconvert_exporter": "python",
   "pygments_lexer": "ipython3",
   "version": "3.6.5"
  }
 },
 "nbformat": 4,
 "nbformat_minor": 5
}
